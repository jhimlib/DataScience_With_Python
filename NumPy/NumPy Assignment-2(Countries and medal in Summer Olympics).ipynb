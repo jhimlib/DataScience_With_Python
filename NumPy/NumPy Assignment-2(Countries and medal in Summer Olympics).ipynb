{
 "cells": [
  {
   "cell_type": "code",
   "execution_count": 1,
   "metadata": {},
   "outputs": [],
   "source": [
    "#import necessary librariers\n",
    "import numpy as np"
   ]
  },
  {
   "cell_type": "code",
   "execution_count": 2,
   "metadata": {},
   "outputs": [],
   "source": [
    "#Dataset from Summer Olympic london, year 2012\n",
    "np_olympic_country=np.array(['GBR','China','RUS','US','KOR','JPN','GER'])\n",
    "np_olympic_Country_Gold=np.array([29,38,24,46,13,7,11])\n",
    "np_olympic_Country_Silver=np.array([17,28,25,28,8,14,11])\n",
    "np_olympic_Country_Bronze=np.array([19,22,32,29,7,17,14])"
   ]
  },
  {
   "cell_type": "code",
   "execution_count": 3,
   "metadata": {},
   "outputs": [
    {
     "name": "stdout",
     "output_type": "stream",
     "text": [
      "Find country with maximum gold\n"
     ]
    }
   ],
   "source": [
    "print(\"Find country with maximum gold\")"
   ]
  },
  {
   "cell_type": "code",
   "execution_count": 17,
   "metadata": {},
   "outputs": [
    {
     "data": {
      "text/plain": [
       "3"
      ]
     },
     "execution_count": 17,
     "metadata": {},
     "output_type": "execute_result"
    }
   ],
   "source": [
    "#find country index with maximum gold\n",
    "max_gold_index = np_olympic_Country_Gold.argmax()\n",
    "max_gold_index"
   ]
  },
  {
   "cell_type": "code",
   "execution_count": 18,
   "metadata": {},
   "outputs": [
    {
     "name": "stdout",
     "output_type": "stream",
     "text": [
      "Country with maximum Gold Medal is: US\n"
     ]
    }
   ],
   "source": [
    "#print country with maximum gold\n",
    "country_with_max_gold = np_olympic_country[max_gold_index]\n",
    "print('Country with maximum Gold Medal is: {}'. format(country_with_max_gold))"
   ]
  },
  {
   "cell_type": "code",
   "execution_count": 19,
   "metadata": {},
   "outputs": [
    {
     "name": "stdout",
     "output_type": "stream",
     "text": [
      "Find countries with more than 20 gold medals\n"
     ]
    }
   ],
   "source": [
    "print(\"Find countries with more than 20 gold medals\")"
   ]
  },
  {
   "cell_type": "code",
   "execution_count": 22,
   "metadata": {},
   "outputs": [
    {
     "name": "stdout",
     "output_type": "stream",
     "text": [
      "['GBR' 'China' 'RUS' 'US']\n"
     ]
    }
   ],
   "source": [
    "#countries won more than 20 gold medals, use boolean indexing technique - use Boolean indexing\n",
    "print(np_olympic_country[np_olympic_Country_Gold>20])"
   ]
  },
  {
   "cell_type": "code",
   "execution_count": 21,
   "metadata": {},
   "outputs": [
    {
     "name": "stdout",
     "output_type": "stream",
     "text": [
      "Evaluate the dataset and print the medal tally\n"
     ]
    }
   ],
   "source": [
    "print(\"Evaluate the dataset and print the medal tally\")"
   ]
  },
  {
   "cell_type": "code",
   "execution_count": 34,
   "metadata": {},
   "outputs": [
    {
     "name": "stdout",
     "output_type": "stream",
     "text": [
      "Country GBR, GoldMedal 29 , Total medals 65\n",
      "Country China, GoldMedal 38 , Total medals 88\n",
      "Country RUS, GoldMedal 24 , Total medals 81\n",
      "Country US, GoldMedal 46 , Total medals 103\n",
      "Country KOR, GoldMedal 13 , Total medals 28\n",
      "Country JPN, GoldMedal 7 , Total medals 38\n",
      "Country GER, GoldMedal 11 , Total medals 36\n"
     ]
    }
   ],
   "source": [
    "#print each country name with number of gold medals\n",
    "#print each country name with total number of medals\n",
    "for i in range(len(np_olympic_country)):\n",
    "    gold_medal =np_olympic_Country_Gold[i]\n",
    "    country =np_olympic_country[i]\n",
    "    total_medal=np_olympic_Country_Gold[i]+np_olympic_Country_Silver[i]+ np_olympic_Country_Bronze[i]\n",
    "    print ('Country {}, GoldMedal {} , Total medals {}'.format(country,gold_medal,total_medal))"
   ]
  },
  {
   "cell_type": "code",
   "execution_count": null,
   "metadata": {},
   "outputs": [],
   "source": []
  }
 ],
 "metadata": {
  "kernelspec": {
   "display_name": "Python 3",
   "language": "python",
   "name": "python3"
  },
  "language_info": {
   "codemirror_mode": {
    "name": "ipython",
    "version": 3
   },
   "file_extension": ".py",
   "mimetype": "text/x-python",
   "name": "python",
   "nbconvert_exporter": "python",
   "pygments_lexer": "ipython3",
   "version": "3.7.3"
  }
 },
 "nbformat": 4,
 "nbformat_minor": 2
}
