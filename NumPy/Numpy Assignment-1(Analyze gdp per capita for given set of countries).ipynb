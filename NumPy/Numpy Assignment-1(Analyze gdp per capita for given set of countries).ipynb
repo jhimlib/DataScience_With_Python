{
 "cells": [
  {
   "cell_type": "code",
   "execution_count": 2,
   "metadata": {},
   "outputs": [],
   "source": [
    "#Analyze gdp per capita for given set of countries\n",
    "#find country with max and min gdp\n",
    "#find and print gdp per capita for each country\n",
    "#print gdp=> mean,max,min,standard deviation and sum"
   ]
  },
  {
   "cell_type": "code",
   "execution_count": 5,
   "metadata": {},
   "outputs": [],
   "source": [
    "#import library\n",
    "import numpy as np\n",
    "\n",
    "#country and gdp array\n",
    "countries=np.array(['Algeria','Angola','Argentina','Australia','Austria'])\n",
    "gdp_per_capita=np.array([2255.225482,629.9553062,11601.63022,82494.88371,27266.40335])"
   ]
  },
  {
   "cell_type": "code",
   "execution_count": 8,
   "metadata": {},
   "outputs": [
    {
     "name": "stdout",
     "output_type": "stream",
     "text": [
      "3\n"
     ]
    }
   ],
   "source": [
    "#find country with max gdp\n",
    "max_gdp_per_capita=gdp_per_capita.argmax()\n",
    "print(max_gdp_per_capita)"
   ]
  },
  {
   "cell_type": "code",
   "execution_count": 10,
   "metadata": {},
   "outputs": [
    {
     "name": "stdout",
     "output_type": "stream",
     "text": [
      "Australia\n"
     ]
    }
   ],
   "source": [
    "#print country with max gdp\n",
    "country_with_max_gdp_per_capita = countries[max_gdp_per_capita]\n",
    "print(country_with_max_gdp_per_capita)"
   ]
  },
  {
   "cell_type": "code",
   "execution_count": 12,
   "metadata": {},
   "outputs": [
    {
     "name": "stdout",
     "output_type": "stream",
     "text": [
      "Angola\n"
     ]
    }
   ],
   "source": [
    "#find and print country with min gdp\n",
    "country_with_min_gdp_per_capita = countries[gdp_per_capita.argmin()]\n",
    "print(country_with_min_gdp_per_capita)"
   ]
  },
  {
   "cell_type": "code",
   "execution_count": 15,
   "metadata": {},
   "outputs": [
    {
     "name": "stdout",
     "output_type": "stream",
     "text": [
      "evaluating country Algeria\n",
      "evaluating country Angola\n",
      "evaluating country Argentina\n",
      "evaluating country Australia\n",
      "evaluating country Austria\n"
     ]
    }
   ],
   "source": [
    "#print all countries\n",
    "for country in countries:\n",
    "    print('evaluating country {}'.format(country))"
   ]
  },
  {
   "cell_type": "code",
   "execution_count": 17,
   "metadata": {},
   "outputs": [
    {
     "name": "stdout",
     "output_type": "stream",
     "text": [
      "Country Algeria per capita gdp is 2255.225482\n",
      "Country Angola per capita gdp is 629.9553062\n",
      "Country Argentina per capita gdp is 11601.63022\n",
      "Country Australia per capita gdp is 82494.88371\n",
      "Country Austria per capita gdp is 27266.40335\n"
     ]
    }
   ],
   "source": [
    "#print all countries and corresponding GDPs\n",
    "for i in range(len(countries)):\n",
    "    country =countries[i]\n",
    "    country_gdp_per_capita=gdp_per_capita[i]\n",
    "    print('Country {} per capita gdp is {}'. format(country,country_gdp_per_capita))\n",
    "    "
   ]
  },
  {
   "cell_type": "code",
   "execution_count": 20,
   "metadata": {},
   "outputs": [
    {
     "name": "stdout",
     "output_type": "stream",
     "text": [
      "Maximum GDP 82494.88371\n",
      "Minumum GDP 629.9553062\n",
      "Mean GDP 24849.61961364\n",
      "Standard GDP 30336.20056856954\n",
      "Sum of all GDP 124248.0980682\n"
     ]
    }
   ],
   "source": [
    "print('Maximum GDP {}'. format(gdp_per_capita.max()))\n",
    "print('Minumum GDP {}'. format(gdp_per_capita.min()))\n",
    "print('Mean GDP {}'. format(gdp_per_capita.mean()))\n",
    "print('Standard GDP {}'. format(gdp_per_capita.std()))\n",
    "print('Sum of all GDP {}'. format(gdp_per_capita.sum()))"
   ]
  },
  {
   "cell_type": "code",
   "execution_count": null,
   "metadata": {},
   "outputs": [],
   "source": []
  }
 ],
 "metadata": {
  "kernelspec": {
   "display_name": "Python 3",
   "language": "python",
   "name": "python3"
  },
  "language_info": {
   "codemirror_mode": {
    "name": "ipython",
    "version": 3
   },
   "file_extension": ".py",
   "mimetype": "text/x-python",
   "name": "python",
   "nbconvert_exporter": "python",
   "pygments_lexer": "ipython3",
   "version": "3.7.3"
  }
 },
 "nbformat": 4,
 "nbformat_minor": 2
}
