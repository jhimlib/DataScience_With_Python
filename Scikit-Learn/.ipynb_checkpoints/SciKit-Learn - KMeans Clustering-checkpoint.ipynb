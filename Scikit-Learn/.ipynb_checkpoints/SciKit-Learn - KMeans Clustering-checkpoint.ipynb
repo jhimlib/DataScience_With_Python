{
 "cells": [
  {
   "cell_type": "code",
   "execution_count": 9,
   "metadata": {},
   "outputs": [],
   "source": [
    "#import required libraries\n",
    "import numpy as np"
   ]
  },
  {
   "cell_type": "code",
   "execution_count": 10,
   "metadata": {},
   "outputs": [],
   "source": [
    "#import KMean class from sklearn.cluster\n",
    "from sklearn.cluster import KMeans"
   ]
  },
  {
   "cell_type": "code",
   "execution_count": 11,
   "metadata": {},
   "outputs": [],
   "source": [
    "#import make_blobs dataset from sklearn.Cluster\n",
    "from sklearn.datasets import make_blobs"
   ]
  },
  {
   "cell_type": "code",
   "execution_count": 12,
   "metadata": {},
   "outputs": [],
   "source": [
    "#define number of samples\n",
    "n_samples=300"
   ]
  },
  {
   "cell_type": "code",
   "execution_count": 13,
   "metadata": {},
   "outputs": [],
   "source": [
    "#define ramdom state value to initialixze the center\n",
    "random_state=20"
   ]
  },
  {
   "cell_type": "code",
   "execution_count": 15,
   "metadata": {},
   "outputs": [],
   "source": [
    "#define number of featuure as 5\n",
    "X,y=make_blobs(n_samples=n_samples,n_features=5,random_state=None)"
   ]
  },
  {
   "cell_type": "code",
   "execution_count": 16,
   "metadata": {},
   "outputs": [],
   "source": [
    "#define number of cluster to be formed as 3 and in random state and fit features into the model\n",
    "predict_y=KMeans(n_clusters=3,random_state=random_state).fit_predict(X)"
   ]
  },
  {
   "cell_type": "code",
   "execution_count": 17,
   "metadata": {},
   "outputs": [
    {
     "data": {
      "text/plain": [
       "array([0, 2, 2, 0, 0, 0, 2, 2, 0, 2, 2, 0, 1, 1, 1, 2, 2, 0, 0, 0, 1, 0,\n",
       "       2, 0, 2, 1, 1, 0, 2, 0, 0, 1, 0, 2, 1, 0, 2, 0, 1, 1, 0, 1, 2, 2,\n",
       "       0, 2, 0, 0, 0, 0, 1, 0, 2, 2, 2, 1, 2, 1, 0, 1, 2, 2, 2, 1, 1, 0,\n",
       "       2, 2, 0, 1, 0, 2, 0, 2, 2, 1, 2, 1, 0, 1, 1, 1, 1, 1, 2, 1, 0, 0,\n",
       "       1, 1, 0, 0, 1, 2, 2, 2, 2, 0, 0, 0, 2, 2, 0, 1, 1, 2, 2, 0, 1, 2,\n",
       "       1, 2, 0, 2, 2, 0, 1, 1, 0, 1, 2, 2, 0, 1, 2, 0, 1, 2, 1, 1, 2, 2,\n",
       "       1, 0, 2, 0, 0, 2, 0, 0, 2, 2, 2, 1, 2, 0, 0, 0, 0, 0, 2, 2, 1, 1,\n",
       "       0, 1, 0, 2, 1, 1, 0, 0, 0, 2, 1, 1, 2, 2, 0, 1, 2, 0, 0, 0, 0, 0,\n",
       "       1, 0, 2, 1, 1, 1, 0, 0, 1, 2, 1, 1, 1, 1, 2, 1, 2, 1, 2, 0, 2, 1,\n",
       "       2, 0, 2, 1, 1, 2, 0, 1, 2, 2, 1, 2, 2, 0, 1, 1, 2, 1, 2, 1, 0, 0,\n",
       "       1, 2, 2, 0, 1, 1, 1, 0, 0, 0, 2, 1, 0, 0, 0, 1, 1, 1, 0, 1, 1, 0,\n",
       "       1, 2, 2, 2, 2, 1, 1, 0, 2, 0, 1, 1, 0, 1, 1, 0, 0, 1, 2, 2, 0, 0,\n",
       "       2, 2, 2, 1, 0, 0, 2, 0, 0, 1, 1, 0, 1, 0, 2, 0, 2, 1, 1, 0, 2, 1,\n",
       "       2, 1, 1, 2, 1, 2, 0, 2, 2, 2, 2, 1, 1, 0])"
      ]
     },
     "execution_count": 17,
     "metadata": {},
     "output_type": "execute_result"
    }
   ],
   "source": [
    "#print the estimator prediction\n",
    "predict_y"
   ]
  },
  {
   "cell_type": "code",
   "execution_count": null,
   "metadata": {},
   "outputs": [],
   "source": []
  }
 ],
 "metadata": {
  "kernelspec": {
   "display_name": "Python 3",
   "language": "python",
   "name": "python3"
  },
  "language_info": {
   "codemirror_mode": {
    "name": "ipython",
    "version": 3
   },
   "file_extension": ".py",
   "mimetype": "text/x-python",
   "name": "python",
   "nbconvert_exporter": "python",
   "pygments_lexer": "ipython3",
   "version": "3.7.3"
  }
 },
 "nbformat": 4,
 "nbformat_minor": 2
}
