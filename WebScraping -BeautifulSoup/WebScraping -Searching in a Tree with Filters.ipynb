{
 "cells": [
  {
   "cell_type": "code",
   "execution_count": 1,
   "metadata": {},
   "outputs": [],
   "source": [
    "#import necessary libraries\n",
    "from bs4 import BeautifulSoup"
   ]
  },
  {
   "cell_type": "code",
   "execution_count": 2,
   "metadata": {},
   "outputs": [],
   "source": [
    "#import the web scrapping example html file\n",
    "HTMLfilePath=\"web_scraping_example.html\"\n",
    "with open(HTMLfilePath,\"r\") as organization:\n",
    "    soup=BeautifulSoup(organization,\"lxml\")"
   ]
  },
  {
   "cell_type": "code",
   "execution_count": 3,
   "metadata": {},
   "outputs": [
    {
     "data": {
      "text/plain": [
       "[<html>\n",
       " <head><title>Scrapping</title></head>\n",
       " <body>\n",
       " <div class=\"Organizationlist\">\n",
       " <ul id=\"HR\">\n",
       " <li class=\"HRmanager\">\n",
       " <div class=\"name\">Jack</div>\n",
       " <div class=\"ID\">101</div>\n",
       " </li>\n",
       " <li class=\"HRmanager\">\n",
       " <div class=\"name\">Kelly</div>\n",
       " <div class=\"ID\">101</div>\n",
       " </li>\n",
       " </ul>\n",
       " <ul id=\"IT\">\n",
       " <li class=\"ITmanager\">\n",
       " <div class=\"name\">Darrel</div>\n",
       " <div class=\"ID\">65</div>\n",
       " </li>\n",
       " </ul>\n",
       " <ul id=\"Finance\">\n",
       " <li class=\"GENmanager\">\n",
       " <div class=\"name\">Sammy</div>\n",
       " <div class=\"ID\">007</div>\n",
       " </li>\n",
       " <li class=\"ACCmanager\">\n",
       " <div class=\"name\">Joseph</div>\n",
       " <div class=\"ID\">097</div>\n",
       " </li>\n",
       " </ul>\n",
       " </div>\n",
       " </body>\n",
       " </html>]"
      ]
     },
     "execution_count": 3,
     "metadata": {},
     "output_type": "execute_result"
    }
   ],
   "source": [
    "#view the soup object\n",
    "soup.contents"
   ]
  },
  {
   "cell_type": "code",
   "execution_count": 6,
   "metadata": {},
   "outputs": [],
   "source": [
    "#search using find methods\n",
    "tag_li=soup.find('li')"
   ]
  },
  {
   "cell_type": "code",
   "execution_count": 8,
   "metadata": {},
   "outputs": [
    {
     "name": "stdout",
     "output_type": "stream",
     "text": [
      "<class 'bs4.element.Tag'>\n",
      "<li class=\"HRmanager\">\n",
      "<div class=\"name\">Jack</div>\n",
      "<div class=\"ID\">101</div>\n",
      "</li>\n"
     ]
    }
   ],
   "source": [
    "#print the tag type and tag\n",
    "print(type(tag_li))\n",
    "print(tag_li)"
   ]
  },
  {
   "cell_type": "code",
   "execution_count": 9,
   "metadata": {},
   "outputs": [],
   "source": [
    "#search the document using find method for on ID \n",
    "find_id= soup.find(id='HR')"
   ]
  },
  {
   "cell_type": "code",
   "execution_count": 10,
   "metadata": {},
   "outputs": [
    {
     "name": "stdout",
     "output_type": "stream",
     "text": [
      "<ul id=\"HR\">\n",
      "<li class=\"HRmanager\">\n",
      "<div class=\"name\">Jack</div>\n",
      "<div class=\"ID\">101</div>\n",
      "</li>\n",
      "<li class=\"HRmanager\">\n",
      "<div class=\"name\">Kelly</div>\n",
      "<div class=\"ID\">101</div>\n",
      "</li>\n",
      "</ul>\n"
     ]
    }
   ],
   "source": [
    "#print the find_id\n",
    "print(find_id)"
   ]
  },
  {
   "cell_type": "code",
   "execution_count": 13,
   "metadata": {},
   "outputs": [],
   "source": [
    "#search using string only\n",
    "search_for_stringOnly = soup.findAll(text=[\"Kelly\",\"Jack\"])"
   ]
  },
  {
   "cell_type": "code",
   "execution_count": 14,
   "metadata": {},
   "outputs": [
    {
     "name": "stdout",
     "output_type": "stream",
     "text": [
      "['Jack', 'Kelly']\n"
     ]
    }
   ],
   "source": [
    "#print the search values\n",
    "print(search_for_stringOnly)"
   ]
  },
  {
   "cell_type": "code",
   "execution_count": 17,
   "metadata": {},
   "outputs": [
    {
     "name": "stdout",
     "output_type": "stream",
     "text": [
      "<li class=\"ITmanager\">\n",
      "<div class=\"name\">Darrel</div>\n",
      "<div class=\"ID\">65</div>\n",
      "</li>\n"
     ]
    }
   ],
   "source": [
    "#search based on CSS class name\n",
    "css_class_search=soup.find(attrs={\"class\":\"ITmanager\"})\n",
    "print(css_class_search)"
   ]
  },
  {
   "cell_type": "code",
   "execution_count": 30,
   "metadata": {},
   "outputs": [
    {
     "name": "stdout",
     "output_type": "stream",
     "text": [
      "Sammy\n"
     ]
    }
   ],
   "source": [
    "#create a function to search the document based upon the tag passed as parameter\n",
    "def is_account_manager(tag):\n",
    "    return tag.has_attr(\"id\") and tag.get(\"id\")==\"Finance\"\n",
    "\n",
    "account_manager= soup.find(is_account_manager)\n",
    "print(account_manager.li.div.string)"
   ]
  },
  {
   "cell_type": "code",
   "execution_count": 32,
   "metadata": {},
   "outputs": [
    {
     "name": "stdout",
     "output_type": "stream",
     "text": [
      "html\n",
      "head\n",
      "title\n",
      "body\n",
      "div\n",
      "ul\n",
      "li\n",
      "div\n",
      "div\n",
      "li\n",
      "div\n",
      "div\n",
      "ul\n",
      "li\n",
      "div\n",
      "div\n",
      "ul\n",
      "li\n",
      "div\n",
      "div\n",
      "li\n",
      "div\n",
      "div\n"
     ]
    }
   ],
   "source": [
    "#print tag name using True which returns all the tags present in the document\n",
    "for tag in soup.findAll(True):\n",
    "    print(tag.name)"
   ]
  },
  {
   "cell_type": "code",
   "execution_count": 35,
   "metadata": {},
   "outputs": [],
   "source": [
    "#search using findall method for the given class\n",
    "find_class=soup.findAll(class_='HRmanager')"
   ]
  },
  {
   "cell_type": "code",
   "execution_count": 36,
   "metadata": {},
   "outputs": [
    {
     "data": {
      "text/plain": [
       "bs4.element.ResultSet"
      ]
     },
     "execution_count": 36,
     "metadata": {},
     "output_type": "execute_result"
    }
   ],
   "source": [
    "#view the type of class\n",
    "type(find_class)"
   ]
  },
  {
   "cell_type": "code",
   "execution_count": 37,
   "metadata": {},
   "outputs": [
    {
     "name": "stdout",
     "output_type": "stream",
     "text": [
      "<li class=\"HRmanager\">\n",
      "<div class=\"name\">Kelly</div>\n",
      "<div class=\"ID\">101</div>\n",
      "</li>\n"
     ]
    }
   ],
   "source": [
    "#print the second resultset\n",
    "print(find_class[1])"
   ]
  },
  {
   "cell_type": "code",
   "execution_count": 38,
   "metadata": {},
   "outputs": [
    {
     "name": "stdout",
     "output_type": "stream",
     "text": [
      "[<ul id=\"HR\">\n",
      "<li class=\"HRmanager\">\n",
      "<div class=\"name\">Jack</div>\n",
      "<div class=\"ID\">101</div>\n",
      "</li>\n",
      "<li class=\"HRmanager\">\n",
      "<div class=\"name\">Kelly</div>\n",
      "<div class=\"ID\">101</div>\n",
      "</li>\n",
      "</ul>]\n"
     ]
    }
   ],
   "source": [
    "#find parent\n",
    "find_class=find_class[0]\n",
    "find_parent=find_class.find_parents('ul')\n",
    "print(find_parent)"
   ]
  },
  {
   "cell_type": "code",
   "execution_count": 45,
   "metadata": {},
   "outputs": [
    {
     "name": "stdout",
     "output_type": "stream",
     "text": [
      "<ul id=\"IT\">\n",
      "<li class=\"ITmanager\">\n",
      "<div class=\"name\">Darrel</div>\n",
      "<div class=\"ID\">65</div>\n",
      "</li>\n",
      "</ul>\n"
     ]
    }
   ],
   "source": [
    "#use find method to search based on the id\n",
    "org=soup.find(id=\"IT\")\n",
    "print(org)"
   ]
  },
  {
   "cell_type": "code",
   "execution_count": 46,
   "metadata": {},
   "outputs": [],
   "source": [
    "#find the next siblings\n",
    "next_sibling=org.findNextSiblings()"
   ]
  },
  {
   "cell_type": "code",
   "execution_count": 47,
   "metadata": {},
   "outputs": [
    {
     "name": "stdout",
     "output_type": "stream",
     "text": [
      "<bound method PageElement.find_parents of <ul id=\"IT\">\n",
      "<li class=\"ITmanager\">\n",
      "<div class=\"name\">Darrel</div>\n",
      "<div class=\"ID\">65</div>\n",
      "</li>\n",
      "</ul>>\n"
     ]
    }
   ],
   "source": [
    "#print parents\n",
    "parent=org.findParents\n",
    "print(parent)"
   ]
  },
  {
   "cell_type": "code",
   "execution_count": 48,
   "metadata": {},
   "outputs": [
    {
     "name": "stdout",
     "output_type": "stream",
     "text": [
      "[<div class=\"ID\">101</div>, <div class=\"name\">Kelly</div>, <li class=\"HRmanager\">\n",
      "<div class=\"name\">Kelly</div>\n",
      "<div class=\"ID\">101</div>\n",
      "</li>, <div class=\"ID\">101</div>, <div class=\"name\">Jack</div>, <li class=\"HRmanager\">\n",
      "<div class=\"name\">Jack</div>\n",
      "<div class=\"ID\">101</div>\n",
      "</li>, <ul id=\"HR\">\n",
      "<li class=\"HRmanager\">\n",
      "<div class=\"name\">Jack</div>\n",
      "<div class=\"ID\">101</div>\n",
      "</li>\n",
      "<li class=\"HRmanager\">\n",
      "<div class=\"name\">Kelly</div>\n",
      "<div class=\"ID\">101</div>\n",
      "</li>\n",
      "</ul>, <div class=\"Organizationlist\">\n",
      "<ul id=\"HR\">\n",
      "<li class=\"HRmanager\">\n",
      "<div class=\"name\">Jack</div>\n",
      "<div class=\"ID\">101</div>\n",
      "</li>\n",
      "<li class=\"HRmanager\">\n",
      "<div class=\"name\">Kelly</div>\n",
      "<div class=\"ID\">101</div>\n",
      "</li>\n",
      "</ul>\n",
      "<ul id=\"IT\">\n",
      "<li class=\"ITmanager\">\n",
      "<div class=\"name\">Darrel</div>\n",
      "<div class=\"ID\">65</div>\n",
      "</li>\n",
      "</ul>\n",
      "<ul id=\"Finance\">\n",
      "<li class=\"GENmanager\">\n",
      "<div class=\"name\">Sammy</div>\n",
      "<div class=\"ID\">007</div>\n",
      "</li>\n",
      "<li class=\"ACCmanager\">\n",
      "<div class=\"name\">Joseph</div>\n",
      "<div class=\"ID\">097</div>\n",
      "</li>\n",
      "</ul>\n",
      "</div>, <body>\n",
      "<div class=\"Organizationlist\">\n",
      "<ul id=\"HR\">\n",
      "<li class=\"HRmanager\">\n",
      "<div class=\"name\">Jack</div>\n",
      "<div class=\"ID\">101</div>\n",
      "</li>\n",
      "<li class=\"HRmanager\">\n",
      "<div class=\"name\">Kelly</div>\n",
      "<div class=\"ID\">101</div>\n",
      "</li>\n",
      "</ul>\n",
      "<ul id=\"IT\">\n",
      "<li class=\"ITmanager\">\n",
      "<div class=\"name\">Darrel</div>\n",
      "<div class=\"ID\">65</div>\n",
      "</li>\n",
      "</ul>\n",
      "<ul id=\"Finance\">\n",
      "<li class=\"GENmanager\">\n",
      "<div class=\"name\">Sammy</div>\n",
      "<div class=\"ID\">007</div>\n",
      "</li>\n",
      "<li class=\"ACCmanager\">\n",
      "<div class=\"name\">Joseph</div>\n",
      "<div class=\"ID\">097</div>\n",
      "</li>\n",
      "</ul>\n",
      "</div>\n",
      "</body>, <title>Scrapping</title>, <head><title>Scrapping</title></head>, <html>\n",
      "<head><title>Scrapping</title></head>\n",
      "<body>\n",
      "<div class=\"Organizationlist\">\n",
      "<ul id=\"HR\">\n",
      "<li class=\"HRmanager\">\n",
      "<div class=\"name\">Jack</div>\n",
      "<div class=\"ID\">101</div>\n",
      "</li>\n",
      "<li class=\"HRmanager\">\n",
      "<div class=\"name\">Kelly</div>\n",
      "<div class=\"ID\">101</div>\n",
      "</li>\n",
      "</ul>\n",
      "<ul id=\"IT\">\n",
      "<li class=\"ITmanager\">\n",
      "<div class=\"name\">Darrel</div>\n",
      "<div class=\"ID\">65</div>\n",
      "</li>\n",
      "</ul>\n",
      "<ul id=\"Finance\">\n",
      "<li class=\"GENmanager\">\n",
      "<div class=\"name\">Sammy</div>\n",
      "<div class=\"ID\">007</div>\n",
      "</li>\n",
      "<li class=\"ACCmanager\">\n",
      "<div class=\"name\">Joseph</div>\n",
      "<div class=\"ID\">097</div>\n",
      "</li>\n",
      "</ul>\n",
      "</div>\n",
      "</body>\n",
      "</html>]\n"
     ]
    }
   ],
   "source": [
    "#find and print previous\n",
    "all_previous = org.findAllPrevious()\n",
    "print(all_previous)"
   ]
  },
  {
   "cell_type": "code",
   "execution_count": 49,
   "metadata": {},
   "outputs": [
    {
     "name": "stdout",
     "output_type": "stream",
     "text": [
      "<ul id=\"HR\">\n",
      "<li class=\"HRmanager\">\n",
      "<div class=\"name\">Jack</div>\n",
      "<div class=\"ID\">101</div>\n",
      "</li>\n",
      "<li class=\"HRmanager\">\n",
      "<div class=\"name\">Kelly</div>\n",
      "<div class=\"ID\">101</div>\n",
      "</li>\n",
      "</ul>\n"
     ]
    }
   ],
   "source": [
    "#search amd print previous sibling\n",
    "previous_siblings=org.findPreviousSibling()\n",
    "print(previous_siblings)"
   ]
  },
  {
   "cell_type": "code",
   "execution_count": 50,
   "metadata": {},
   "outputs": [
    {
     "name": "stdout",
     "output_type": "stream",
     "text": [
      "<ul id=\"Finance\">\n",
      "<li class=\"GENmanager\">\n",
      "<div class=\"name\">Sammy</div>\n",
      "<div class=\"ID\">007</div>\n",
      "</li>\n",
      "<li class=\"ACCmanager\">\n",
      "<div class=\"name\">Joseph</div>\n",
      "<div class=\"ID\">097</div>\n",
      "</li>\n",
      "</ul>\n"
     ]
    }
   ],
   "source": [
    "#search and print next sibling\n",
    "next_siblings=org.findNextSibling()\n",
    "print(next_siblings)"
   ]
  },
  {
   "cell_type": "code",
   "execution_count": 53,
   "metadata": {},
   "outputs": [
    {
     "name": "stdout",
     "output_type": "stream",
     "text": [
      "\n",
      "abc@example.com\n"
     ]
    }
   ],
   "source": [
    "#regular expression to search a document\n",
    "import re\n",
    "email_example=\"\"\"<br/>\n",
    "<p>my email address is</p>\n",
    "abc@example.com\"\"\"\n",
    "soup_email=BeautifulSoup(email_example,'lxml')\n",
    "emailID_regexpr=re.compile(\"\\w+@\\w+\\.\\w+\")\n",
    "email_id=soup_email.find(text=emailID_regexpr)\n",
    "print(email_id)"
   ]
  },
  {
   "cell_type": "code",
   "execution_count": null,
   "metadata": {},
   "outputs": [],
   "source": []
  }
 ],
 "metadata": {
  "kernelspec": {
   "display_name": "Python 3",
   "language": "python",
   "name": "python3"
  },
  "language_info": {
   "codemirror_mode": {
    "name": "ipython",
    "version": 3
   },
   "file_extension": ".py",
   "mimetype": "text/x-python",
   "name": "python",
   "nbconvert_exporter": "python",
   "pygments_lexer": "ipython3",
   "version": "3.7.3"
  }
 },
 "nbformat": 4,
 "nbformat_minor": 2
}
