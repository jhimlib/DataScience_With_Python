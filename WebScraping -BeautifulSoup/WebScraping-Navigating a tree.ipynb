{
 "cells": [
  {
   "cell_type": "code",
   "execution_count": 1,
   "metadata": {},
   "outputs": [],
   "source": [
    "#import necessary libraries\n",
    "from bs4 import BeautifulSoup"
   ]
  },
  {
   "cell_type": "code",
   "execution_count": 14,
   "metadata": {},
   "outputs": [],
   "source": [
    "book_html_doc=\"\"\"<catalog>\n",
    "<head>\n",
    "<title>The web book catalog</title>\n",
    "</head>\n",
    "<books>\n",
    "<book id='bk001'>\n",
    "<author>Ryan</author>\n",
    "<title>Walk on Moon</title>\n",
    "<genre>Fiction</genre>\n",
    "<price>24.95</price>\n",
    "<review>Good Book</review>\n",
    "</book>\n",
    "<book id='bk002'>\n",
    "<author>James</author>\n",
    "<title>Beautiful Day</title>\n",
    "<genre>Drama</genre>\n",
    "<price>11.95</price>\n",
    "<review>A must read</review>\n",
    "</book>\n",
    "<book id='bk003'>\n",
    "<author>Lisa</author>\n",
    "<title>Alien life</title>\n",
    "<genre>Scfi</genre>\n",
    "<price>30.00</price>\n",
    "<review>very interesting</review>\n",
    "</book>\n",
    "</books>\n",
    "</catalog>\n",
    "\"\"\""
   ]
  },
  {
   "cell_type": "code",
   "execution_count": 16,
   "metadata": {},
   "outputs": [],
   "source": [
    "#create soup object\n",
    "book_soup=BeautifulSoup(book_html_doc,'html.parser')"
   ]
  },
  {
   "cell_type": "code",
   "execution_count": 17,
   "metadata": {},
   "outputs": [
    {
     "name": "stdout",
     "output_type": "stream",
     "text": [
      "<catalog>\n",
      "<head>\n",
      "<title>The web book catalog</title>\n",
      "</head>\n",
      "<books>\n",
      "<book id=\"bk001\">\n",
      "<author>Ryan</author>\n",
      "<title>Walk on Moon</title>\n",
      "<genre>Fiction</genre>\n",
      "<price>24.95</price>\n",
      "<review>Good Book</review>\n",
      "</book>\n",
      "<book id=\"bk002\">\n",
      "<author>James</author>\n",
      "<title>Beautiful Day</title>\n",
      "<genre>Drama</genre>\n",
      "<price>11.95</price>\n",
      "<review>A must read</review>\n",
      "</book>\n",
      "<book id=\"bk003\">\n",
      "<author>Lisa</author>\n",
      "<title>Alien life</title>\n",
      "<genre>Scfi</genre>\n",
      "<price>30.00</price>\n",
      "<review>very interesting</review>\n",
      "</book>\n",
      "</books>\n",
      "</catalog>\n"
     ]
    }
   ],
   "source": [
    "#print the catalog tag\n",
    "print(book_soup.catalog)"
   ]
  },
  {
   "cell_type": "code",
   "execution_count": 18,
   "metadata": {},
   "outputs": [
    {
     "data": {
      "text/plain": [
       "<head>\n",
       "<title>The web book catalog</title>\n",
       "</head>"
      ]
     },
     "execution_count": 18,
     "metadata": {},
     "output_type": "execute_result"
    }
   ],
   "source": [
    "#view the head of the book html doc\n",
    "book_soup.head"
   ]
  },
  {
   "cell_type": "code",
   "execution_count": 23,
   "metadata": {},
   "outputs": [
    {
     "name": "stdout",
     "output_type": "stream",
     "text": [
      "<title>The web book catalog</title>\n"
     ]
    }
   ],
   "source": [
    "#view title of the book html\n",
    "title_tag = book_soup.title\n",
    "print(title_tag)"
   ]
  },
  {
   "cell_type": "code",
   "execution_count": 20,
   "metadata": {},
   "outputs": [
    {
     "name": "stdout",
     "output_type": "stream",
     "text": [
      "'The web book catalog'\n",
      "'Ryan'\n",
      "'Walk on Moon'\n",
      "'Fiction'\n",
      "'24.95'\n",
      "'Good Book'\n",
      "'James'\n",
      "'Beautiful Day'\n",
      "'Drama'\n",
      "'11.95'\n",
      "'A must read'\n",
      "'Lisa'\n",
      "'Alien life'\n",
      "'Scfi'\n",
      "'30.00'\n",
      "'very interesting'\n"
     ]
    }
   ],
   "source": [
    "#navigate down using stripped string method\n",
    "for string in book_soup.stripped_strings:\n",
    "    print(repr(string))"
   ]
  },
  {
   "cell_type": "code",
   "execution_count": 24,
   "metadata": {},
   "outputs": [
    {
     "data": {
      "text/plain": [
       "<head>\n",
       "<title>The web book catalog</title>\n",
       "</head>"
      ]
     },
     "execution_count": 24,
     "metadata": {},
     "output_type": "execute_result"
    }
   ],
   "source": [
    "#navigate up using parent method\n",
    "title_tag.parent"
   ]
  },
  {
   "cell_type": "code",
   "execution_count": 35,
   "metadata": {},
   "outputs": [
    {
     "name": "stdout",
     "output_type": "stream",
     "text": [
      "navigate back and forth:\n"
     ]
    }
   ],
   "source": [
    "print(\"navigate back and forth:\")\n",
    "#create element object to navigate back and forth\n",
    "element_soup=book_soup.catalog.books"
   ]
  },
  {
   "cell_type": "code",
   "execution_count": 26,
   "metadata": {},
   "outputs": [
    {
     "data": {
      "text/plain": [
       "<book id=\"bk001\">\n",
       "<author>Ryan</author>\n",
       "<title>Walk on Moon</title>\n",
       "<genre>Fiction</genre>\n",
       "<price>24.95</price>\n",
       "<review>Good Book</review>\n",
       "</book>"
      ]
     },
     "execution_count": 26,
     "metadata": {},
     "output_type": "execute_result"
    }
   ],
   "source": [
    "#navigate forward using next element method\n",
    "next_element=element_soup.next_element.next_element\n",
    "next_element"
   ]
  },
  {
   "cell_type": "code",
   "execution_count": 29,
   "metadata": {},
   "outputs": [
    {
     "data": {
      "text/plain": [
       "<books>\n",
       "<book id=\"bk001\">\n",
       "<author>Ryan</author>\n",
       "<title>Walk on Moon</title>\n",
       "<genre>Fiction</genre>\n",
       "<price>24.95</price>\n",
       "<review>Good Book</review>\n",
       "</book>\n",
       "<book id=\"bk002\">\n",
       "<author>James</author>\n",
       "<title>Beautiful Day</title>\n",
       "<genre>Drama</genre>\n",
       "<price>11.95</price>\n",
       "<review>A must read</review>\n",
       "</book>\n",
       "<book id=\"bk003\">\n",
       "<author>Lisa</author>\n",
       "<title>Alien life</title>\n",
       "<genre>Scfi</genre>\n",
       "<price>30.00</price>\n",
       "<review>very interesting</review>\n",
       "</book>\n",
       "</books>"
      ]
     },
     "execution_count": 29,
     "metadata": {},
     "output_type": "execute_result"
    }
   ],
   "source": [
    "#prev element\n",
    "previous_element=next_element.previous_element.previous_element\n",
    "previous_element"
   ]
  },
  {
   "cell_type": "code",
   "execution_count": 34,
   "metadata": {},
   "outputs": [
    {
     "name": "stdout",
     "output_type": "stream",
     "text": [
      "Navigate sideways-find siblings:\n"
     ]
    },
    {
     "data": {
      "text/plain": [
       "<book id=\"bk001\">\n",
       "<author>Ryan</author>\n",
       "<title>Walk on Moon</title>\n",
       "<genre>Fiction</genre>\n",
       "<price>24.95</price>\n",
       "<review>Good Book</review>\n",
       "</book>"
      ]
     },
     "execution_count": 34,
     "metadata": {},
     "output_type": "execute_result"
    }
   ],
   "source": [
    "print(\"Navigate sideways-find siblings:\")\n",
    "#move sideways\n",
    "next_sibling=book_soup.catalog.books.book\n",
    "next_sibling"
   ]
  },
  {
   "cell_type": "code",
   "execution_count": 32,
   "metadata": {},
   "outputs": [
    {
     "data": {
      "text/plain": [
       "<book id=\"bk002\">\n",
       "<author>James</author>\n",
       "<title>Beautiful Day</title>\n",
       "<genre>Drama</genre>\n",
       "<price>11.95</price>\n",
       "<review>A must read</review>\n",
       "</book>"
      ]
     },
     "execution_count": 32,
     "metadata": {},
     "output_type": "execute_result"
    }
   ],
   "source": [
    "#navigate to next sibling\n",
    "next_sibling2=next_sibling.next_sibling\n",
    "next_sibling2.next_sibling\n"
   ]
  },
  {
   "cell_type": "code",
   "execution_count": 33,
   "metadata": {},
   "outputs": [
    {
     "data": {
      "text/plain": [
       "<book id=\"bk001\">\n",
       "<author>Ryan</author>\n",
       "<title>Walk on Moon</title>\n",
       "<genre>Fiction</genre>\n",
       "<price>24.95</price>\n",
       "<review>Good Book</review>\n",
       "</book>"
      ]
     },
     "execution_count": 33,
     "metadata": {},
     "output_type": "execute_result"
    }
   ],
   "source": [
    "#navigate to previous sibling\n",
    "previous_sibling=next_sibling2.previous_sibling\n",
    "previous_sibling\n"
   ]
  },
  {
   "cell_type": "code",
   "execution_count": null,
   "metadata": {},
   "outputs": [],
   "source": []
  }
 ],
 "metadata": {
  "kernelspec": {
   "display_name": "Python 3",
   "language": "python",
   "name": "python3"
  },
  "language_info": {
   "codemirror_mode": {
    "name": "ipython",
    "version": 3
   },
   "file_extension": ".py",
   "mimetype": "text/x-python",
   "name": "python",
   "nbconvert_exporter": "python",
   "pygments_lexer": "ipython3",
   "version": "3.7.3"
  }
 },
 "nbformat": 4,
 "nbformat_minor": 2
}
