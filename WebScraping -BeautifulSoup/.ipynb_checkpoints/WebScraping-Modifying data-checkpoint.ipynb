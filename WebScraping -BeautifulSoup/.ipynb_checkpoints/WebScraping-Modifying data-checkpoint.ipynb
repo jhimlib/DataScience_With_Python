{
 "cells": [
  {
   "cell_type": "code",
   "execution_count": 9,
   "metadata": {},
   "outputs": [],
   "source": [
    "#import necessary libraries\n",
    "from bs4 import BeautifulSoup"
   ]
  },
  {
   "cell_type": "code",
   "execution_count": 10,
   "metadata": {},
   "outputs": [],
   "source": [
    "#create employee HTML document\n",
    "employee_html_doc=\"\"\"<employees>\n",
    "<employee class=\"accountant\">\n",
    "<firstName>John</firstName><lastName>Doe</lastName>\n",
    "</employee>\n",
    "<employee class=\"manager\">\n",
    "<firstName>Anna</firstName><lastName>Smith</lastName>\n",
    "</employee>\n",
    "<employee class=\"developer\">\n",
    "<firstName>Peter</firstName><lastName>Jones</lastName>\n",
    "</employee>\n",
    "</employees>\"\"\""
   ]
  },
  {
   "cell_type": "code",
   "execution_count": 11,
   "metadata": {},
   "outputs": [],
   "source": [
    "#create soup object\n",
    "employee_soup = BeautifulSoup(employee_html_doc,'html.parser')"
   ]
  },
  {
   "cell_type": "code",
   "execution_count": 14,
   "metadata": {},
   "outputs": [
    {
     "data": {
      "text/plain": [
       "<employee class=\"accountant\">\n",
       "<firstname>John</firstname><lastname>Doe</lastname>\n",
       "</employee>"
      ]
     },
     "execution_count": 14,
     "metadata": {},
     "output_type": "execute_result"
    }
   ],
   "source": [
    "#access and view the tag\n",
    "tag=employee_soup.employee\n",
    "tag"
   ]
  },
  {
   "cell_type": "code",
   "execution_count": 15,
   "metadata": {},
   "outputs": [],
   "source": [
    "#modify the tag\n",
    "tag['class']='manager'"
   ]
  },
  {
   "cell_type": "code",
   "execution_count": 16,
   "metadata": {},
   "outputs": [
    {
     "data": {
      "text/plain": [
       "<employee class=\"manager\">\n",
       "<firstname>John</firstname><lastname>Doe</lastname>\n",
       "</employee>"
      ]
     },
     "execution_count": 16,
     "metadata": {},
     "output_type": "execute_result"
    }
   ],
   "source": [
    "#view the tag to see the modification\n",
    "tag"
   ]
  },
  {
   "cell_type": "code",
   "execution_count": 17,
   "metadata": {},
   "outputs": [
    {
     "data": {
      "text/plain": [
       "<employees>\n",
       "<employee class=\"manager\">\n",
       "<firstname>John</firstname><lastname>Doe</lastname>\n",
       "</employee>\n",
       "<employee class=\"manager\">\n",
       "<firstname>Anna</firstname><lastname>Smith</lastname>\n",
       "</employee>\n",
       "<employee class=\"developer\">\n",
       "<firstname>Peter</firstname><lastname>Jones</lastname>\n",
       "</employee>\n",
       "</employees>"
      ]
     },
     "execution_count": 17,
     "metadata": {},
     "output_type": "execute_result"
    }
   ],
   "source": [
    "#view the soup object to verify the modification\n",
    "employee_soup"
   ]
  },
  {
   "cell_type": "code",
   "execution_count": 19,
   "metadata": {},
   "outputs": [],
   "source": [
    "#add a tag\n",
    "tag=employee_soup.new_tag('rank')\n",
    "tag.string='Manager 1'\n",
    "#modify using insert_after method\n",
    "employee_soup.employees.employee.insert_after(tag)"
   ]
  },
  {
   "cell_type": "code",
   "execution_count": 20,
   "metadata": {},
   "outputs": [
    {
     "name": "stdout",
     "output_type": "stream",
     "text": [
      "<employees>\n",
      "<employee class=\"manager\">\n",
      "<firstname>John</firstname><lastname>Doe</lastname>\n",
      "</employee><rank>Manager 1</rank>\n",
      "<employee class=\"manager\">\n",
      "<firstname>Anna</firstname><lastname>Smith</lastname>\n",
      "</employee>\n",
      "<employee class=\"developer\">\n",
      "<firstname>Peter</firstname><lastname>Jones</lastname>\n",
      "</employee>\n",
      "</employees>\n"
     ]
    }
   ],
   "source": [
    "#view the soup object\n",
    "print(employee_soup)"
   ]
  },
  {
   "cell_type": "code",
   "execution_count": 21,
   "metadata": {},
   "outputs": [],
   "source": [
    "#clear all the modified tag\n",
    "tag.clear()"
   ]
  },
  {
   "cell_type": "code",
   "execution_count": 22,
   "metadata": {},
   "outputs": [
    {
     "name": "stdout",
     "output_type": "stream",
     "text": [
      "<employees>\n",
      "<employee class=\"manager\">\n",
      "<firstname>John</firstname><lastname>Doe</lastname>\n",
      "</employee><rank></rank>\n",
      "<employee class=\"manager\">\n",
      "<firstname>Anna</firstname><lastname>Smith</lastname>\n",
      "</employee>\n",
      "<employee class=\"developer\">\n",
      "<firstname>Peter</firstname><lastname>Jones</lastname>\n",
      "</employee>\n",
      "</employees>\n"
     ]
    }
   ],
   "source": [
    "#view\n",
    "print(employee_soup)"
   ]
  },
  {
   "cell_type": "code",
   "execution_count": 25,
   "metadata": {},
   "outputs": [
    {
     "data": {
      "text/plain": [
       "<employee class=\"manager\">\n",
       "<firstname>John</firstname><lastname>Doe</lastname>\n",
       "</employee>"
      ]
     },
     "execution_count": 25,
     "metadata": {},
     "output_type": "execute_result"
    }
   ],
   "source": [
    "#create a tag object and view it\n",
    "tag=employee_soup.employees.employee\n",
    "tag"
   ]
  },
  {
   "cell_type": "code",
   "execution_count": 26,
   "metadata": {},
   "outputs": [
    {
     "data": {
      "text/plain": [
       "'John'"
      ]
     },
     "execution_count": 26,
     "metadata": {},
     "output_type": "execute_result"
    }
   ],
   "source": [
    "#extract info using extract method\n",
    "tag.firstname.string.extract()"
   ]
  },
  {
   "cell_type": "code",
   "execution_count": 27,
   "metadata": {},
   "outputs": [
    {
     "data": {
      "text/plain": [
       "<firstname></firstname>"
      ]
     },
     "execution_count": 27,
     "metadata": {},
     "output_type": "execute_result"
    }
   ],
   "source": [
    "#modify the tag name\n",
    "tag.firstname.replace_with('first name')"
   ]
  },
  {
   "cell_type": "code",
   "execution_count": 29,
   "metadata": {},
   "outputs": [
    {
     "data": {
      "text/plain": [
       "<employees>\n",
       "<employee class=\"manager\">\n",
       "first name<lastname>Doe</lastname>\n",
       "</employee><rank></rank>\n",
       "<employee class=\"manager\">\n",
       "<firstname>Anna</firstname><lastname>Smith</lastname>\n",
       "</employee>\n",
       "<employee class=\"developer\">\n",
       "<firstname>Peter</firstname><lastname>Jones</lastname>\n",
       "</employee>\n",
       "</employees>"
      ]
     },
     "execution_count": 29,
     "metadata": {},
     "output_type": "execute_result"
    }
   ],
   "source": [
    "#view the change\n",
    "employee_soup.employees"
   ]
  },
  {
   "cell_type": "code",
   "execution_count": null,
   "metadata": {},
   "outputs": [],
   "source": []
  }
 ],
 "metadata": {
  "kernelspec": {
   "display_name": "Python 3",
   "language": "python",
   "name": "python3"
  },
  "language_info": {
   "codemirror_mode": {
    "name": "ipython",
    "version": 3
   },
   "file_extension": ".py",
   "mimetype": "text/x-python",
   "name": "python",
   "nbconvert_exporter": "python",
   "pygments_lexer": "ipython3",
   "version": "3.7.3"
  }
 },
 "nbformat": 4,
 "nbformat_minor": 2
}
