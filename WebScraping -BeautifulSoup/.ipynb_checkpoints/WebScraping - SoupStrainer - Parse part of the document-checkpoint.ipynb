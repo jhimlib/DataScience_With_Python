{
 "cells": [
  {
   "cell_type": "code",
   "execution_count": 21,
   "metadata": {},
   "outputs": [],
   "source": [
    "#import the necessary libraries\n",
    "from bs4 import BeautifulSoup"
   ]
  },
  {
   "cell_type": "code",
   "execution_count": 22,
   "metadata": {},
   "outputs": [],
   "source": [
    "#sample web document from www.simplilearn website\n",
    "data_SL=\"\"\"<ul class=\"content-col_discover\">\n",
    "<h5>Discover</h5>\n",
    "<li><a href=\"/resources\" id=\"free_resources\">Free Resources</a></li>\n",
    "<li><a href=\"http://community.learn.com\" id=\"community\">Learn community</a></li>\n",
    "<li><a href=\"/career-data-labs\" id=\"lab\">Career Data Labs</a></li>\n",
    "<li><a href=\"/scholarships-for-veterans\" id=\"scolarship\">Veterans scholorship</a></li>\n",
    "</u>\"\"\""
   ]
  },
  {
   "cell_type": "code",
   "execution_count": 12,
   "metadata": {},
   "outputs": [
    {
     "data": {
      "text/plain": [
       "<ul class=\"content-col_discover\">\n",
       "<h5>Discover</h5>\n",
       "<li><a href=\"/resources\" id=\"free_resources\">Free Resources</a></li>\n",
       "<li><a href=\"http://community.learn.com\" id=\"community\">Learn community</a></li>\n",
       "<li><a href=\"/career-data-labs\" id=\"lab\">Career Data Labs</a></li>\n",
       "<li><a href=\"/scholarships-for-veterans\" id=\"scolarship\">Veterans scholorship</a></li>\n",
       "</ul>"
      ]
     },
     "execution_count": 12,
     "metadata": {},
     "output_type": "execute_result"
    }
   ],
   "source": [
    "#create soup object\n",
    "soup_data=BeautifulSoup(data_SL,'html.parser')\n",
    "soup_data"
   ]
  },
  {
   "cell_type": "code",
   "execution_count": 13,
   "metadata": {},
   "outputs": [
    {
     "name": "stdout",
     "output_type": "stream",
     "text": [
      "\n",
      "Discover\n",
      "Free Resources\n",
      "Learn community\n",
      "Career Data Labs\n",
      "Veterans scholorship\n",
      "\n"
     ]
    }
   ],
   "source": [
    "#parse only part of the document, text values for tags using getText method\n",
    "print(soup_data.get_text())"
   ]
  },
  {
   "cell_type": "code",
   "execution_count": 18,
   "metadata": {},
   "outputs": [],
   "source": [
    "#import soupStrainer class\n",
    "from bs4 import SoupStrainer"
   ]
  },
  {
   "cell_type": "code",
   "execution_count": 19,
   "metadata": {},
   "outputs": [],
   "source": [
    "#create object to parse only the id with lab\n",
    "tags_with_LabLink=SoupStrainer(id=\"lab\")"
   ]
  },
  {
   "cell_type": "code",
   "execution_count": 23,
   "metadata": {},
   "outputs": [
    {
     "name": "stdout",
     "output_type": "stream",
     "text": [
      "<a href=\"/career-data-labs\" id=\"lab\">\n",
      " Career Data Labs\n",
      "</a>\n"
     ]
    }
   ],
   "source": [
    "#print the part of the parsed document\n",
    "print(BeautifulSoup(data_SL,'html.parser',parse_only=tags_with_LabLink).prettify())"
   ]
  },
  {
   "cell_type": "code",
   "execution_count": null,
   "metadata": {},
   "outputs": [],
   "source": []
  }
 ],
 "metadata": {
  "kernelspec": {
   "display_name": "Python 3",
   "language": "python",
   "name": "python3"
  },
  "language_info": {
   "codemirror_mode": {
    "name": "ipython",
    "version": 3
   },
   "file_extension": ".py",
   "mimetype": "text/x-python",
   "name": "python",
   "nbconvert_exporter": "python",
   "pygments_lexer": "ipython3",
   "version": "3.7.3"
  }
 },
 "nbformat": 4,
 "nbformat_minor": 2
}
